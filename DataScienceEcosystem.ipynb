{
 "cells": [
  {
   "cell_type": "markdown",
   "id": "246d760c-4ac4-402c-b6ac-8976acc2e242",
   "metadata": {
    "tags": []
   },
   "source": [
    "# Data Science Tools and Ecosystem"
   ]
  },
  {
   "cell_type": "markdown",
   "id": "dfca8995-dd8a-47e3-8205-b85975238f46",
   "metadata": {},
   "source": [
    "In this notebook, Data Science Tools and Ecosystem are summarized."
   ]
  },
  {
   "cell_type": "markdown",
   "id": "bbf3afbc-9ea5-451c-adf0-cd87b9a33267",
   "metadata": {
    "tags": []
   },
   "source": [
    "**Objectives:**\n",
    "- List popular languages for Data Science\n",
    "- List popular libraries for Data Science\n",
    "- Introduce arithmetic expression examples\n",
    "- Create a code cell to multiply and add numbers\n",
    "- Create a code cell to convert minutes to hours\n"
   ]
  },
  {
   "cell_type": "markdown",
   "id": "6ff2c810-be78-41d9-a35e-6302ab8a81ee",
   "metadata": {},
   "source": [
    "Some of the popular languages that Data Scientists use are:"
   ]
  },
  {
   "cell_type": "markdown",
   "id": "210f734b-2fad-4f8c-bd16-c73e89ca8b70",
   "metadata": {},
   "source": [
    "1. Python\n",
    "2. R\n",
    "3. SQL\n",
    "4. Java\n",
    "5. Scala"
   ]
  },
  {
   "cell_type": "markdown",
   "id": "d018f018-c961-4355-a51c-ebacc80ea2d4",
   "metadata": {},
   "source": [
    "Some of the commonly used libraries used by Data Scientists include:"
   ]
  },
  {
   "cell_type": "markdown",
   "id": "309797bd-0e49-4360-83e0-8ecb6c0e4985",
   "metadata": {},
   "source": [
    "1. Pandas\n",
    "2. TensorFlow\n",
    "3. NumPy\n",
    "4. Matplotlib"
   ]
  },
  {
   "cell_type": "markdown",
   "id": "819bc432-f399-4a44-8757-4d228195cb4a",
   "metadata": {},
   "source": [
    "| Data Science Tools|\n",
    "|-------------------|\n",
    "| RStudio |\n",
    "| Jupyter Notebooks |\n",
    "| Spyder |\n",
    "| VSCode |\n",
    "| Watson Studio |"
   ]
  },
  {
   "cell_type": "markdown",
   "id": "eb659bac-b0fd-4740-b763-55c93c686678",
   "metadata": {},
   "source": [
    "### Below are a few examples of evaluating arithmetic expressions in Python"
   ]
  },
  {
   "cell_type": "code",
   "execution_count": 3,
   "id": "9a29a40f-ea6e-462a-bf11-9e9f5f0792a2",
   "metadata": {
    "tags": []
   },
   "outputs": [
    {
     "data": {
      "text/plain": [
       "17"
      ]
     },
     "execution_count": 3,
     "metadata": {},
     "output_type": "execute_result"
    }
   ],
   "source": [
    "# This a simple arithmetic expression to mutiply then add integers\n",
    "(3*4)+5"
   ]
  },
  {
   "cell_type": "code",
   "execution_count": 5,
   "id": "3f4c9cd1-1ba2-4b37-a0b2-d181d2b03770",
   "metadata": {
    "tags": []
   },
   "outputs": [
    {
     "data": {
      "text/plain": [
       "3.0"
      ]
     },
     "execution_count": 5,
     "metadata": {},
     "output_type": "execute_result"
    }
   ],
   "source": [
    "# This will convert 200 minutes to hours by diving by 60\n",
    "round (200/60, 0)"
   ]
  },
  {
   "cell_type": "markdown",
   "id": "8b036ed0-2662-4910-939e-c54b8939cd06",
   "metadata": {
    "tags": []
   },
   "source": [
    "## Author:\n",
    "Shivam Ashiwal"
   ]
  },
  {
   "cell_type": "code",
   "execution_count": null,
   "id": "a040a174-b1b3-4c14-bd70-23823f106242",
   "metadata": {},
   "outputs": [],
   "source": []
  }
 ],
 "metadata": {
  "kernelspec": {
   "display_name": "Python",
   "language": "python",
   "name": "conda-env-python-py"
  },
  "language_info": {
   "codemirror_mode": {
    "name": "ipython",
    "version": 3
   },
   "file_extension": ".py",
   "mimetype": "text/x-python",
   "name": "python",
   "nbconvert_exporter": "python",
   "pygments_lexer": "ipython3",
   "version": "3.7.12"
  }
 },
 "nbformat": 4,
 "nbformat_minor": 5
}
